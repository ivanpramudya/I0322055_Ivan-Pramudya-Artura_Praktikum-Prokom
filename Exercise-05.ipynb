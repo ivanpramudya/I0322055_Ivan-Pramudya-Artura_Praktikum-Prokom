{
 "cells": [
  {
   "attachments": {},
   "cell_type": "markdown",
   "metadata": {},
   "source": [
    "1. Diberikan List sebagai berikut!"
   ]
  },
  {
   "cell_type": "code",
   "execution_count": null,
   "metadata": {},
   "outputs": [],
   "source": [
    "list1 = ['a','b','c']\n",
    "list1 = ['c','d','e']"
   ]
  },
  {
   "attachments": {},
   "cell_type": "markdown",
   "metadata": {},
   "source": [
    "Buatlah program pengulangan untuk menampilkan elemen dalam kedua list tersebut yang sama! (Contoh Output \"Nilai yang sama adalah 'C'\")"
   ]
  },
  {
   "cell_type": "code",
   "execution_count": 5,
   "metadata": {},
   "outputs": [
    {
     "name": "stdout",
     "output_type": "stream",
     "text": [
      "Nilai yang sama adalah c\n"
     ]
    }
   ],
   "source": [
    "# Kerjakan nomor 1 di sini\n",
    "list1 = ['a', 'b', 'c']\n",
    "list2 = ['c', 'd', 'e']\n",
    "for abjad in list1 :\n",
    "    if abjad in list2 :\n",
    "        print(\"Nilai yang sama adalah\",abjad)"
   ]
  },
  {
   "attachments": {},
   "cell_type": "markdown",
   "metadata": {},
   "source": [
    "2. Buatlah sebuah list yang berisi daftar mata kuliah di Teknik Industri UNS (minimal 10 matkul). Kemudian buat program pencarian menggunakan pengulangan. Apabila nama matkul yang user inputkan sudah sesuai dengan isi list maka program akan berhenti dan menampilkan output \"Mata Kuliah (matkul yang diinput user) adalah mata kuliah di Teknik Industri UNS\"."
   ]
  },
  {
   "cell_type": "code",
   "execution_count": 14,
   "metadata": {},
   "outputs": [
    {
     "name": "stdout",
     "output_type": "stream",
     "text": [
      "Mata kuliah pengantar ilmu hukum bukan mata kuliah di Teknik Industri UNS\n",
      "Mata kuliah presksipsi bukan mata kuliah di Teknik Industri UNS\n",
      "Mata kuliah kimia organik bukan mata kuliah di Teknik Industri UNS\n",
      "Mata kuliah sistem lingkungan industri adalah mata kuliah di Teknik Industri UNS\n"
     ]
    }
   ],
   "source": [
    "# Kerjakan nomor 2 di sini\n",
    "Matakuliah_TI = ['fisika dasar', 'kalkulus', 'programa komputer', 'biologi', 'analisis dan estimasi biaya', 'pengantar rekayasa dan desain', 'material teknik', 'mekanika teknik', 'psikologi industri', 'sistem lingkungan industri', 'pengantar teknik industri']\n",
    "while True :\n",
    "    Matakuliah = input(\"Masukkan nama mata kuliah (ketik 'selesai' jika sudah memperoleh data): \")\n",
    "    if Matakuliah == 'selesai' :\n",
    "        break\n",
    "    elif Matakuliah in Matakuliah_TI :\n",
    "        print(f\"Mata kuliah {Matakuliah} adalah mata kuliah di Teknik Industri UNS\")\n",
    "        break\n",
    "    else:\n",
    "        print(f\"Mata kuliah {Matakuliah} bukan mata kuliah di Teknik Industri UNS\")"
   ]
  },
  {
   "attachments": {},
   "cell_type": "markdown",
   "metadata": {},
   "source": [
    "3. Buatlah program untuk menampilkan faktorial dari suatu bilangan dimana bilangan tersebut didapat melalui input user!"
   ]
  },
  {
   "cell_type": "code",
   "execution_count": 18,
   "metadata": {},
   "outputs": [
    {
     "name": "stdout",
     "output_type": "stream",
     "text": [
      "Nilai faktorial dari 5 adalah 120\n"
     ]
    }
   ],
   "source": [
    "# Kerjakan nomor 3 di sini\n",
    "bilangan = int(input(\"Masukkan bilangan: \"))\n",
    "faktorial = 1\n",
    "\n",
    "if bilangan < 0 :\n",
    "    print(\"Tidak terdefinisi\")\n",
    "elif bilangan == 0 :\n",
    "    print(\"Nilai faktorial dari 0 adalah 1\")\n",
    "else:\n",
    "    for i in range (1, bilangan+1) :\n",
    "        faktorial *= i\n",
    "    print(\"Nilai faktorial dari\", bilangan, \"adalah\", faktorial)"
   ]
  }
 ],
 "metadata": {
  "kernelspec": {
   "display_name": "Python 3",
   "language": "python",
   "name": "python3"
  },
  "language_info": {
   "codemirror_mode": {
    "name": "ipython",
    "version": 3
   },
   "file_extension": ".py",
   "mimetype": "text/x-python",
   "name": "python",
   "nbconvert_exporter": "python",
   "pygments_lexer": "ipython3",
   "version": "3.11.2"
  },
  "orig_nbformat": 4
 },
 "nbformat": 4,
 "nbformat_minor": 2
}
