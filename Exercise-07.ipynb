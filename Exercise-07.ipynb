{
 "cells": [
  {
   "cell_type": "code",
   "execution_count": 10,
   "metadata": {},
   "outputs": [
    {
     "data": {
      "text/plain": [
       "[[2, 6], [0, 3]]"
      ]
     },
     "execution_count": 10,
     "metadata": {},
     "output_type": "execute_result"
    }
   ],
   "source": [
    "#Buatlah sebuah fungsi untuk membuat matrix berdasarkan input dari user\n",
    "\n",
    "def create_matrix(baris,kolom):\n",
    "    matrix = []\n",
    "\n",
    "    #Tulis kode kamu disini\n",
    "    for x in range (baris):\n",
    "\n",
    "    #Menambahkan baris kosong ke matriks\n",
    "        matrix.append([])\n",
    "        for y in range(kolom):\n",
    "\n",
    "        #Memasukkan elemen matriks\n",
    "            elemen = int(input(f\"Masukkan elemen matriks[{x}][{y}]: \"))\n",
    "            matrix[x].append(elemen)\n",
    "            \n",
    "    return matrix\n",
    "\n",
    "\n",
    "baris = int(input('Masukkan Jumlah Baris:\\t'))\n",
    "kolom = int(input('Masukkan Jumlah Kolom:\\t'))\n",
    "\n",
    "create_matrix(baris,kolom)"
   ]
  },
  {
   "cell_type": "code",
   "execution_count": 11,
   "metadata": {},
   "outputs": [
    {
     "data": {
      "text/plain": [
       "[[4, 3], [-3, -4]]"
      ]
     },
     "execution_count": 11,
     "metadata": {},
     "output_type": "execute_result"
    }
   ],
   "source": [
    "#Buatlah fungsi untuk melakukan pengurangan antar dua matrix berdasarkan input user\n",
    "\n",
    "def kurang_matrix(matrixA, matrixB):\n",
    "    kurang = [[0, 0],\n",
    "              [0, 0]]\n",
    "\n",
    "    #Tulis kode kamu disini\n",
    "    for a in range (len(matrixA)):\n",
    "        for b in range (len(matrixB[a])):\n",
    "            kurang[a][b] = matrixA[a][b]-matrixB[a][b]\n",
    "\n",
    "    return kurang\n",
    "\n",
    "matrixA = [[7, 5],\n",
    "           [2, 3]]\n",
    "matrixB = [[3, 2],\n",
    "           [5, 7]]\n",
    "\n",
    "\n",
    "kurang_matrix(matrixA,matrixB)\n"
   ]
  },
  {
   "cell_type": "code",
   "execution_count": 12,
   "metadata": {},
   "outputs": [
    {
     "data": {
      "text/plain": [
       "[[4.0, 3.0], [2.0, 1.0]]"
      ]
     },
     "execution_count": 12,
     "metadata": {},
     "output_type": "execute_result"
    }
   ],
   "source": [
    "#Buatlah Fungsi untuk melakukan pembagian matrix dengan skalar berdasarkan input user\n",
    "\n",
    "def bagi_matrix(matrix1, skalar):\n",
    "    hasil = [[0, 0],\n",
    "             [0, 0]]\n",
    "\n",
    "    #Tulis kode kamu disini\n",
    "    for a in range (len(matrix1)):\n",
    "        for b in range (len(matrix1[a])):\n",
    "            hasil[a][b] = matrix1[a][b]/skalar\n",
    "\n",
    "    return hasil\n",
    "\n",
    "matrix1 = [[8, 6],\n",
    "           [4, 2]]\n",
    "skalar = int(input('Matrix dibagi berapa?\\t'))\n",
    "\n",
    "\n",
    "bagi_matrix(matrix1, skalar)"
   ]
  }
 ],
 "metadata": {
  "kernelspec": {
   "display_name": "Python 3",
   "language": "python",
   "name": "python3"
  },
  "language_info": {
   "codemirror_mode": {
    "name": "ipython",
    "version": 3
   },
   "file_extension": ".py",
   "mimetype": "text/x-python",
   "name": "python",
   "nbconvert_exporter": "python",
   "pygments_lexer": "ipython3",
   "version": "3.11.2"
  },
  "orig_nbformat": 4
 },
 "nbformat": 4,
 "nbformat_minor": 2
}
