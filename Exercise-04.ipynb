{
 "cells": [
  {
   "cell_type": "code",
   "execution_count": 1,
   "metadata": {},
   "outputs": [
    {
     "name": "stdout",
     "output_type": "stream",
     "text": [
      "Ivan Pramudya Artura\n",
      "I0322055\n",
      "B\n"
     ]
    }
   ],
   "source": [
    "print(input(\"Nama: \"))\n",
    "print(input(\"NIM: \"))\n",
    "print(input(\"Kelas: \"))"
   ]
  },
  {
   "attachments": {},
   "cell_type": "markdown",
   "metadata": {},
   "source": [
    "## 1."
   ]
  },
  {
   "attachments": {},
   "cell_type": "markdown",
   "metadata": {},
   "source": [
    "Buatlah program yang meminta input string dari user, kemudian program akan menentukan string tersebut adalah palyndrome atau bukan.<br>\n",
    "* Palyndrome adalah kata atau kalimat yang jika dibalik hasilnya sama\n",
    "* kasur rusak adalah palyndrome\n",
    "\n",
    "> *note: Kerjakan soal ini dengan percabangan*"
   ]
  },
  {
   "cell_type": "code",
   "execution_count": 4,
   "metadata": {},
   "outputs": [
    {
     "name": "stdout",
     "output_type": "stream",
     "text": [
      "Kata ketek merupakan kata palyndrome\n"
     ]
    }
   ],
   "source": [
    "# Kerjakan soal no 1 di sini\n",
    "kata = str(input(\"Masukkan kata: \"))\n",
    "hasil = kata[::-1]\n",
    "\n",
    "if kata == hasil:\n",
    "    print(\"Kata\", kata, \"merupakan kata palyndrome\")\n",
    "else:\n",
    "    print(\"Kata\", kata, \"bukan merupakan kata palyndrome\")"
   ]
  },
  {
   "attachments": {},
   "cell_type": "markdown",
   "metadata": {},
   "source": [
    "## 2."
   ]
  },
  {
   "attachments": {},
   "cell_type": "markdown",
   "metadata": {},
   "source": [
    "Buatlah program yang meminta input berupa tahun dan bulan kemudian tampilkan jumlah hari pada bulan tersebut (perbedaan pada tahun kabisat).<br>\n",
    "\n",
    "> *note: Kerjakan soal ini dengan percabangan*"
   ]
  },
  {
   "cell_type": "code",
   "execution_count": 20,
   "metadata": {},
   "outputs": [
    {
     "name": "stdout",
     "output_type": "stream",
     "text": [
      "Pada tahun 2032 di bulan februari memiliki jumlah hari sebanyak 29\n"
     ]
    }
   ],
   "source": [
    "# Kerjakan soal no 2 di sini\n",
    "tahun = int(input(\"Masukkan tahun: \"))\n",
    "bulan = str(input(\"Masukkan bulan: \"))\n",
    "bulan2 = bulan.lower()\n",
    "\n",
    "jenis_tahun = {\n",
    "    'tidak kabisat':{\n",
    "    'januari':31, 'februari':28, 'maret':31, 'april':30, 'mei':31, 'juni':30, 'juli':31, 'agustus':31, 'september':30, 'oktober':31, 'november':30, 'desember':31\n",
    "    },\n",
    "    'kabisat':{\n",
    "    'januari':31, 'februari':29, 'maret':31, 'april':30, 'mei':31, 'juni':30, 'juli':31, 'agustus':31, 'september':30, 'oktober':31, 'november':30, 'desember':31\n",
    "    }\n",
    "}\n",
    "\n",
    "if tahun % 4 == 0 and (tahun % 100 != 0 or tahun % 400 == 0):\n",
    "    print(\"Pada tahun\", tahun, \"di bulan\", bulan, \"memiliki jumlah hari sebanyak\", (jenis_tahun['kabisat'][bulan2]))\n",
    "else:\n",
    "    print(\"Pada tahun\", tahun, \"di bulan\", bulan, \"memiliki jumlah hari sebanyak\", (jenis_tahun['tidak kabisat'][bulan2]))\n"
   ]
  }
 ],
 "metadata": {
  "kernelspec": {
   "display_name": "Python 3",
   "language": "python",
   "name": "python3"
  },
  "language_info": {
   "codemirror_mode": {
    "name": "ipython",
    "version": 3
   },
   "file_extension": ".py",
   "mimetype": "text/x-python",
   "name": "python",
   "nbconvert_exporter": "python",
   "pygments_lexer": "ipython3",
   "version": "3.11.2"
  },
  "orig_nbformat": 4
 },
 "nbformat": 4,
 "nbformat_minor": 2
}
